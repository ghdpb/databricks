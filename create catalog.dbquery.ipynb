{
 "cells": [
  {
   "cell_type": "code",
   "execution_count": 0,
   "metadata": {
    "application/vnd.databricks.v1+cell": {
     "cellMetadata": {
      "byteLimit": 10485760,
      "rowLimit": 1000
     },
     "inputWidgets": {},
     "nuid": "61603310-8f59-47de-adbf-67d7e061d2bd",
     "showTitle": false,
     "tableResultSettingsMap": {},
     "title": ""
    }
   },
   "outputs": [],
   "source": [
    "CREATE CATALOG IF NOT EXISTS lakehouse\n",
    "COMMENT \"Catálogo principal do projeto, com camadas de dados governadas via Unity Catalog\";\n",
    "\n",
    "-- 2 Cria as quatro camadas da arquitetura de dados\n",
    "CREATE SCHEMA IF NOT EXISTS lakehouse.raw\n",
    "COMMENT \"Camada RAW - dados brutos, como chegam das fontes (SQL, API, planilhas)\";\n",
    "CREATE VOLUME IF NOT EXISTS lakehouse.raw.coinbase;\n",
    "CREATE VOLUME IF NOT EXISTS lakehouse.raw.yfinance;\n",
    "\n",
    "CREATE SCHEMA IF NOT EXISTS lakehouse.bronze\n",
    "COMMENT \"Camada BRONZE - dados padronizados, com metadados e controle de ingestão\";\n",
    "\n",
    "CREATE SCHEMA IF NOT EXISTS lakehouse.silver\n",
    "COMMENT \"Camada SILVER - dados tratados, com regras de negócio aplicadas\";\n",
    "\n",
    "CREATE SCHEMA IF NOT EXISTS lakehouse.gold\n",
    "COMMENT \"Camada GOLD - dados analíticos e métricas finais para BI e IA\";\n",
    "\n",
    "-- 3 (opcional) Verifica se tudo foi criado corretamente\n",
    "SHOW SCHEMAS IN lakehouse;\n"
   ]
  }
 ],
 "metadata": {
  "application/vnd.databricks.v1+notebook": {
   "computePreferences": null,
   "dashboards": [],
   "environmentMetadata": null,
   "inputWidgetPreferences": null,
   "language": "sql",
   "notebookMetadata": {
    "pythonIndentUnit": 4,
    "sqlQueryOptions": {
     "applyAutoLimit": true,
     "catalog": "workspace",
     "schema": "default"
    }
   },
   "notebookName": "create catalog.dbquery.ipynb",
   "widgets": {}
  },
  "language_info": {
   "name": "sql"
  }
 },
 "nbformat": 4,
 "nbformat_minor": 0
}
